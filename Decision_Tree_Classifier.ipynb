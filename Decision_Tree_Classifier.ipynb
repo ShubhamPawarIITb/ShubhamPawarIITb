{
  "nbformat": 4,
  "nbformat_minor": 0,
  "metadata": {
    "colab": {
      "name": "Decision Tree Classifier.ipynb",
      "provenance": []
    },
    "kernelspec": {
      "name": "python3",
      "display_name": "Python 3"
    },
    "language_info": {
      "name": "python"
    }
  },
  "cells": [
    {
      "cell_type": "markdown",
      "metadata": {
        "id": "GXm_X2sQzxMZ"
      },
      "source": [
        "##**Name:** Shubham Balasaheb Pawar\n",
        "##**Organization :** The Spark Foundation\n",
        "##**Internship :** Data Science & Bussiness Analytics\n",
        "##**Task :** Prediction using Decision Tree Algorithm\n",
        "##**Task Level :** Intermediate\n",
        "##**Task to perform :** The purpose is if we feed any new data to this classifier, it would be able to predict the right class accordingly"
      ]
    },
    {
      "cell_type": "markdown",
      "metadata": {
        "id": "X5s-eTI0x7pM"
      },
      "source": [
        "##**Importing the libraries**"
      ]
    },
    {
      "cell_type": "code",
      "metadata": {
        "id": "TNhySdu5o63H"
      },
      "source": [
        "import numpy as np\n",
        "import matplotlib.pyplot as plt\n",
        "import pandas as pd\n",
        "import seaborn as sns\n",
        "from sklearn.preprocessing import LabelEncoder"
      ],
      "execution_count": 1,
      "outputs": []
    },
    {
      "cell_type": "markdown",
      "metadata": {
        "id": "1BwA1ExPyMeu"
      },
      "source": [
        "##**Importing the dataset**"
      ]
    },
    {
      "cell_type": "code",
      "metadata": {
        "id": "UTNHpgdiqGhe"
      },
      "source": [
        "dataset = pd.read_csv('Iris.csv')\n",
        "X = dataset.iloc[:, 1:-1].values\n",
        "y = dataset.iloc[:, -1].values"
      ],
      "execution_count": 37,
      "outputs": []
    },
    {
      "cell_type": "markdown",
      "metadata": {
        "id": "cRKsir2KyO0Y"
      },
      "source": [
        "##**Encoding categorical data**"
      ]
    },
    {
      "cell_type": "code",
      "metadata": {
        "id": "EC9QWKINxVQv"
      },
      "source": [
        "le = LabelEncoder()\n",
        "y = le.fit_transform(y)"
      ],
      "execution_count": 3,
      "outputs": []
    },
    {
      "cell_type": "code",
      "metadata": {
        "colab": {
          "base_uri": "https://localhost:8080/",
          "height": 357
        },
        "id": "r02S6BoitgHb",
        "outputId": "4def51ce-60b4-4702-8a29-c6680b763be1"
      },
      "source": [
        "dataset.head(10)"
      ],
      "execution_count": 4,
      "outputs": [
        {
          "output_type": "execute_result",
          "data": {
            "text/html": [
              "<div>\n",
              "<style scoped>\n",
              "    .dataframe tbody tr th:only-of-type {\n",
              "        vertical-align: middle;\n",
              "    }\n",
              "\n",
              "    .dataframe tbody tr th {\n",
              "        vertical-align: top;\n",
              "    }\n",
              "\n",
              "    .dataframe thead th {\n",
              "        text-align: right;\n",
              "    }\n",
              "</style>\n",
              "<table border=\"1\" class=\"dataframe\">\n",
              "  <thead>\n",
              "    <tr style=\"text-align: right;\">\n",
              "      <th></th>\n",
              "      <th>Id</th>\n",
              "      <th>SepalLengthCm</th>\n",
              "      <th>SepalWidthCm</th>\n",
              "      <th>PetalLengthCm</th>\n",
              "      <th>PetalWidthCm</th>\n",
              "      <th>Species</th>\n",
              "    </tr>\n",
              "  </thead>\n",
              "  <tbody>\n",
              "    <tr>\n",
              "      <th>0</th>\n",
              "      <td>1</td>\n",
              "      <td>5.1</td>\n",
              "      <td>3.5</td>\n",
              "      <td>1.4</td>\n",
              "      <td>0.2</td>\n",
              "      <td>Iris-setosa</td>\n",
              "    </tr>\n",
              "    <tr>\n",
              "      <th>1</th>\n",
              "      <td>2</td>\n",
              "      <td>4.9</td>\n",
              "      <td>3.0</td>\n",
              "      <td>1.4</td>\n",
              "      <td>0.2</td>\n",
              "      <td>Iris-setosa</td>\n",
              "    </tr>\n",
              "    <tr>\n",
              "      <th>2</th>\n",
              "      <td>3</td>\n",
              "      <td>4.7</td>\n",
              "      <td>3.2</td>\n",
              "      <td>1.3</td>\n",
              "      <td>0.2</td>\n",
              "      <td>Iris-setosa</td>\n",
              "    </tr>\n",
              "    <tr>\n",
              "      <th>3</th>\n",
              "      <td>4</td>\n",
              "      <td>4.6</td>\n",
              "      <td>3.1</td>\n",
              "      <td>1.5</td>\n",
              "      <td>0.2</td>\n",
              "      <td>Iris-setosa</td>\n",
              "    </tr>\n",
              "    <tr>\n",
              "      <th>4</th>\n",
              "      <td>5</td>\n",
              "      <td>5.0</td>\n",
              "      <td>3.6</td>\n",
              "      <td>1.4</td>\n",
              "      <td>0.2</td>\n",
              "      <td>Iris-setosa</td>\n",
              "    </tr>\n",
              "    <tr>\n",
              "      <th>5</th>\n",
              "      <td>6</td>\n",
              "      <td>5.4</td>\n",
              "      <td>3.9</td>\n",
              "      <td>1.7</td>\n",
              "      <td>0.4</td>\n",
              "      <td>Iris-setosa</td>\n",
              "    </tr>\n",
              "    <tr>\n",
              "      <th>6</th>\n",
              "      <td>7</td>\n",
              "      <td>4.6</td>\n",
              "      <td>3.4</td>\n",
              "      <td>1.4</td>\n",
              "      <td>0.3</td>\n",
              "      <td>Iris-setosa</td>\n",
              "    </tr>\n",
              "    <tr>\n",
              "      <th>7</th>\n",
              "      <td>8</td>\n",
              "      <td>5.0</td>\n",
              "      <td>3.4</td>\n",
              "      <td>1.5</td>\n",
              "      <td>0.2</td>\n",
              "      <td>Iris-setosa</td>\n",
              "    </tr>\n",
              "    <tr>\n",
              "      <th>8</th>\n",
              "      <td>9</td>\n",
              "      <td>4.4</td>\n",
              "      <td>2.9</td>\n",
              "      <td>1.4</td>\n",
              "      <td>0.2</td>\n",
              "      <td>Iris-setosa</td>\n",
              "    </tr>\n",
              "    <tr>\n",
              "      <th>9</th>\n",
              "      <td>10</td>\n",
              "      <td>4.9</td>\n",
              "      <td>3.1</td>\n",
              "      <td>1.5</td>\n",
              "      <td>0.1</td>\n",
              "      <td>Iris-setosa</td>\n",
              "    </tr>\n",
              "  </tbody>\n",
              "</table>\n",
              "</div>"
            ],
            "text/plain": [
              "   Id  SepalLengthCm  SepalWidthCm  PetalLengthCm  PetalWidthCm      Species\n",
              "0   1            5.1           3.5            1.4           0.2  Iris-setosa\n",
              "1   2            4.9           3.0            1.4           0.2  Iris-setosa\n",
              "2   3            4.7           3.2            1.3           0.2  Iris-setosa\n",
              "3   4            4.6           3.1            1.5           0.2  Iris-setosa\n",
              "4   5            5.0           3.6            1.4           0.2  Iris-setosa\n",
              "5   6            5.4           3.9            1.7           0.4  Iris-setosa\n",
              "6   7            4.6           3.4            1.4           0.3  Iris-setosa\n",
              "7   8            5.0           3.4            1.5           0.2  Iris-setosa\n",
              "8   9            4.4           2.9            1.4           0.2  Iris-setosa\n",
              "9  10            4.9           3.1            1.5           0.1  Iris-setosa"
            ]
          },
          "metadata": {
            "tags": []
          },
          "execution_count": 4
        }
      ]
    },
    {
      "cell_type": "code",
      "metadata": {
        "colab": {
          "base_uri": "https://localhost:8080/",
          "height": 0
        },
        "id": "2-YKBN9attQy",
        "outputId": "452f2b55-1c30-487e-d801-535e3fb8264a"
      },
      "source": [
        "dataset.info()"
      ],
      "execution_count": 5,
      "outputs": [
        {
          "output_type": "stream",
          "text": [
            "<class 'pandas.core.frame.DataFrame'>\n",
            "RangeIndex: 150 entries, 0 to 149\n",
            "Data columns (total 6 columns):\n",
            " #   Column         Non-Null Count  Dtype  \n",
            "---  ------         --------------  -----  \n",
            " 0   Id             150 non-null    int64  \n",
            " 1   SepalLengthCm  150 non-null    float64\n",
            " 2   SepalWidthCm   150 non-null    float64\n",
            " 3   PetalLengthCm  150 non-null    float64\n",
            " 4   PetalWidthCm   150 non-null    float64\n",
            " 5   Species        150 non-null    object \n",
            "dtypes: float64(4), int64(1), object(1)\n",
            "memory usage: 7.2+ KB\n"
          ],
          "name": "stdout"
        }
      ]
    },
    {
      "cell_type": "code",
      "metadata": {
        "colab": {
          "base_uri": "https://localhost:8080/",
          "height": 0
        },
        "id": "AXwuNhWltv0x",
        "outputId": "c198a3e2-46f6-4e19-8cfb-f16db18b8230"
      },
      "source": [
        "dataset.shape"
      ],
      "execution_count": 6,
      "outputs": [
        {
          "output_type": "execute_result",
          "data": {
            "text/plain": [
              "(150, 6)"
            ]
          },
          "metadata": {
            "tags": []
          },
          "execution_count": 6
        }
      ]
    },
    {
      "cell_type": "code",
      "metadata": {
        "colab": {
          "base_uri": "https://localhost:8080/",
          "height": 295
        },
        "id": "e96ndNNFt17a",
        "outputId": "42ade01a-c512-4add-85e7-ec9d77c95dcb"
      },
      "source": [
        "dataset.describe()"
      ],
      "execution_count": 7,
      "outputs": [
        {
          "output_type": "execute_result",
          "data": {
            "text/html": [
              "<div>\n",
              "<style scoped>\n",
              "    .dataframe tbody tr th:only-of-type {\n",
              "        vertical-align: middle;\n",
              "    }\n",
              "\n",
              "    .dataframe tbody tr th {\n",
              "        vertical-align: top;\n",
              "    }\n",
              "\n",
              "    .dataframe thead th {\n",
              "        text-align: right;\n",
              "    }\n",
              "</style>\n",
              "<table border=\"1\" class=\"dataframe\">\n",
              "  <thead>\n",
              "    <tr style=\"text-align: right;\">\n",
              "      <th></th>\n",
              "      <th>Id</th>\n",
              "      <th>SepalLengthCm</th>\n",
              "      <th>SepalWidthCm</th>\n",
              "      <th>PetalLengthCm</th>\n",
              "      <th>PetalWidthCm</th>\n",
              "    </tr>\n",
              "  </thead>\n",
              "  <tbody>\n",
              "    <tr>\n",
              "      <th>count</th>\n",
              "      <td>150.000000</td>\n",
              "      <td>150.000000</td>\n",
              "      <td>150.000000</td>\n",
              "      <td>150.000000</td>\n",
              "      <td>150.000000</td>\n",
              "    </tr>\n",
              "    <tr>\n",
              "      <th>mean</th>\n",
              "      <td>75.500000</td>\n",
              "      <td>5.843333</td>\n",
              "      <td>3.054000</td>\n",
              "      <td>3.758667</td>\n",
              "      <td>1.198667</td>\n",
              "    </tr>\n",
              "    <tr>\n",
              "      <th>std</th>\n",
              "      <td>43.445368</td>\n",
              "      <td>0.828066</td>\n",
              "      <td>0.433594</td>\n",
              "      <td>1.764420</td>\n",
              "      <td>0.763161</td>\n",
              "    </tr>\n",
              "    <tr>\n",
              "      <th>min</th>\n",
              "      <td>1.000000</td>\n",
              "      <td>4.300000</td>\n",
              "      <td>2.000000</td>\n",
              "      <td>1.000000</td>\n",
              "      <td>0.100000</td>\n",
              "    </tr>\n",
              "    <tr>\n",
              "      <th>25%</th>\n",
              "      <td>38.250000</td>\n",
              "      <td>5.100000</td>\n",
              "      <td>2.800000</td>\n",
              "      <td>1.600000</td>\n",
              "      <td>0.300000</td>\n",
              "    </tr>\n",
              "    <tr>\n",
              "      <th>50%</th>\n",
              "      <td>75.500000</td>\n",
              "      <td>5.800000</td>\n",
              "      <td>3.000000</td>\n",
              "      <td>4.350000</td>\n",
              "      <td>1.300000</td>\n",
              "    </tr>\n",
              "    <tr>\n",
              "      <th>75%</th>\n",
              "      <td>112.750000</td>\n",
              "      <td>6.400000</td>\n",
              "      <td>3.300000</td>\n",
              "      <td>5.100000</td>\n",
              "      <td>1.800000</td>\n",
              "    </tr>\n",
              "    <tr>\n",
              "      <th>max</th>\n",
              "      <td>150.000000</td>\n",
              "      <td>7.900000</td>\n",
              "      <td>4.400000</td>\n",
              "      <td>6.900000</td>\n",
              "      <td>2.500000</td>\n",
              "    </tr>\n",
              "  </tbody>\n",
              "</table>\n",
              "</div>"
            ],
            "text/plain": [
              "               Id  SepalLengthCm  SepalWidthCm  PetalLengthCm  PetalWidthCm\n",
              "count  150.000000     150.000000    150.000000     150.000000    150.000000\n",
              "mean    75.500000       5.843333      3.054000       3.758667      1.198667\n",
              "std     43.445368       0.828066      0.433594       1.764420      0.763161\n",
              "min      1.000000       4.300000      2.000000       1.000000      0.100000\n",
              "25%     38.250000       5.100000      2.800000       1.600000      0.300000\n",
              "50%     75.500000       5.800000      3.000000       4.350000      1.300000\n",
              "75%    112.750000       6.400000      3.300000       5.100000      1.800000\n",
              "max    150.000000       7.900000      4.400000       6.900000      2.500000"
            ]
          },
          "metadata": {
            "tags": []
          },
          "execution_count": 7
        }
      ]
    },
    {
      "cell_type": "code",
      "metadata": {
        "colab": {
          "base_uri": "https://localhost:8080/",
          "height": 335
        },
        "id": "9i904rx3vSYq",
        "outputId": "fdfc8ba7-4c6b-401f-9646-e91ae6a371cf"
      },
      "source": [
        "sns.distplot(X)"
      ],
      "execution_count": 8,
      "outputs": [
        {
          "output_type": "stream",
          "text": [
            "/usr/local/lib/python3.7/dist-packages/seaborn/distributions.py:2557: FutureWarning: `distplot` is a deprecated function and will be removed in a future version. Please adapt your code to use either `displot` (a figure-level function with similar flexibility) or `histplot` (an axes-level function for histograms).\n",
            "  warnings.warn(msg, FutureWarning)\n"
          ],
          "name": "stderr"
        },
        {
          "output_type": "execute_result",
          "data": {
            "text/plain": [
              "<matplotlib.axes._subplots.AxesSubplot at 0x7fdf83fd9810>"
            ]
          },
          "metadata": {
            "tags": []
          },
          "execution_count": 8
        },
        {
          "output_type": "display_data",
          "data": {
            "image/png": "[encoded data removed]",
            "text/plain": [
              "<Figure size 432x288 with 1 Axes>"
            ]
          },
          "metadata": {
            "tags": [],
            "needs_background": "light"
          }
        }
      ]
    },
    {
      "cell_type": "code",
      "metadata": {
        "colab": {
          "base_uri": "https://localhost:8080/",
          "height": 335
        },
        "id": "79ae7jd-vV0g",
        "outputId": "f2260b97-931e-40db-f935-5684ca6056e8"
      },
      "source": [
        "sns.distplot(y)"
      ],
      "execution_count": 9,
      "outputs": [
        {
          "output_type": "stream",
          "text": [
            "/usr/local/lib/python3.7/dist-packages/seaborn/distributions.py:2557: FutureWarning: `distplot` is a deprecated function and will be removed in a future version. Please adapt your code to use either `displot` (a figure-level function with similar flexibility) or `histplot` (an axes-level function for histograms).\n",
            "  warnings.warn(msg, FutureWarning)\n"
          ],
          "name": "stderr"
        },
        {
          "output_type": "execute_result",
          "data": {
            "text/plain": [
              "<matplotlib.axes._subplots.AxesSubplot at 0x7fdf81c43810>"
            ]
          },
          "metadata": {
            "tags": []
          },
          "execution_count": 9
        },
        {
          "output_type": "display_data",
          "data": {
            "image/png": "[encoded data removed]",
            "text/plain": [
              "<Figure size 432x288 with 1 Axes>"
            ]
          },
          "metadata": {
            "tags": [],
            "needs_background": "light"
          }
        }
      ]
    },
    {
      "cell_type": "code",
      "metadata": {
        "colab": {
          "base_uri": "https://localhost:8080/",
          "height": 355
        },
        "id": "CM5T0Q9Ivd9u",
        "outputId": "108ff123-f24d-4f44-f4f5-a9f571692123"
      },
      "source": [
        "sns.heatmap(dataset.corr())"
      ],
      "execution_count": 10,
      "outputs": [
        {
          "output_type": "execute_result",
          "data": {
            "text/plain": [
              "<matplotlib.axes._subplots.AxesSubplot at 0x7fdf817916d0>"
            ]
          },
          "metadata": {
            "tags": []
          },
          "execution_count": 10
        },
        {
          "output_type": "display_data",
          "data": {
            "image/png": "[encoded data removed]",
            "text/plain": [
              "<Figure size 432x288 with 2 Axes>"
            ]
          },
          "metadata": {
            "tags": [],
            "needs_background": "light"
          }
        }
      ]
    },
    {
      "cell_type": "markdown",
      "metadata": {
        "id": "1emS8balyZnF"
      },
      "source": [
        "##**Splitting the dataset into the Training set and Test set**"
      ]
    },
    {
      "cell_type": "code",
      "metadata": {
        "id": "iOvX0fO2qTbw"
      },
      "source": [
        "from sklearn.model_selection import train_test_split\n",
        "X_train, X_test, y_train, y_test = train_test_split(X, y, test_size = 0.25, random_state = 0)"
      ],
      "execution_count": 11,
      "outputs": []
    },
    {
      "cell_type": "code",
      "metadata": {
        "colab": {
          "base_uri": "https://localhost:8080/",
          "height": 0
        },
        "id": "FO-qcYEbqb-v",
        "outputId": "76767038-fe33-479f-eba6-98dbfc888157"
      },
      "source": [
        "print(X_train)"
      ],
      "execution_count": 12,
      "outputs": [
        {
          "output_type": "stream",
          "text": [
            "[[5.9 3.  4.2 1.5]\n",
            " [5.8 2.6 4.  1.2]\n",
            " [6.8 3.  5.5 2.1]\n",
            " [4.7 3.2 1.3 0.2]\n",
            " [6.9 3.1 5.1 2.3]\n",
            " [5.  3.5 1.6 0.6]\n",
            " [5.4 3.7 1.5 0.2]\n",
            " [5.  2.  3.5 1. ]\n",
            " [6.5 3.  5.5 1.8]\n",
            " [6.7 3.3 5.7 2.5]\n",
            " [6.  2.2 5.  1.5]\n",
            " [6.7 2.5 5.8 1.8]\n",
            " [5.6 2.5 3.9 1.1]\n",
            " [7.7 3.  6.1 2.3]\n",
            " [6.3 3.3 4.7 1.6]\n",
            " [5.5 2.4 3.8 1.1]\n",
            " [6.3 2.7 4.9 1.8]\n",
            " [6.3 2.8 5.1 1.5]\n",
            " [4.9 2.5 4.5 1.7]\n",
            " [6.3 2.5 5.  1.9]\n",
            " [7.  3.2 4.7 1.4]\n",
            " [6.5 3.  5.2 2. ]\n",
            " [6.  3.4 4.5 1.6]\n",
            " [4.8 3.1 1.6 0.2]\n",
            " [5.8 2.7 5.1 1.9]\n",
            " [5.6 2.7 4.2 1.3]\n",
            " [5.6 2.9 3.6 1.3]\n",
            " [5.5 2.5 4.  1.3]\n",
            " [6.1 3.  4.6 1.4]\n",
            " [7.2 3.2 6.  1.8]\n",
            " [5.3 3.7 1.5 0.2]\n",
            " [4.3 3.  1.1 0.1]\n",
            " [6.4 2.7 5.3 1.9]\n",
            " [5.7 3.  4.2 1.2]\n",
            " [5.4 3.4 1.7 0.2]\n",
            " [5.7 4.4 1.5 0.4]\n",
            " [6.9 3.1 4.9 1.5]\n",
            " [4.6 3.1 1.5 0.2]\n",
            " [5.9 3.  5.1 1.8]\n",
            " [5.1 2.5 3.  1.1]\n",
            " [4.6 3.4 1.4 0.3]\n",
            " [6.2 2.2 4.5 1.5]\n",
            " [7.2 3.6 6.1 2.5]\n",
            " [5.7 2.9 4.2 1.3]\n",
            " [4.8 3.  1.4 0.1]\n",
            " [7.1 3.  5.9 2.1]\n",
            " [6.9 3.2 5.7 2.3]\n",
            " [6.5 3.  5.8 2.2]\n",
            " [6.4 2.8 5.6 2.1]\n",
            " [5.1 3.8 1.6 0.2]\n",
            " [4.8 3.4 1.6 0.2]\n",
            " [6.5 3.2 5.1 2. ]\n",
            " [6.7 3.3 5.7 2.1]\n",
            " [4.5 2.3 1.3 0.3]\n",
            " [6.2 3.4 5.4 2.3]\n",
            " [4.9 3.  1.4 0.2]\n",
            " [5.7 2.5 5.  2. ]\n",
            " [6.9 3.1 5.4 2.1]\n",
            " [4.4 3.2 1.3 0.2]\n",
            " [5.  3.6 1.4 0.2]\n",
            " [7.2 3.  5.8 1.6]\n",
            " [5.1 3.5 1.4 0.3]\n",
            " [4.4 3.  1.3 0.2]\n",
            " [5.4 3.9 1.7 0.4]\n",
            " [5.5 2.3 4.  1.3]\n",
            " [6.8 3.2 5.9 2.3]\n",
            " [7.6 3.  6.6 2.1]\n",
            " [5.1 3.5 1.4 0.2]\n",
            " [4.9 3.1 1.5 0.1]\n",
            " [5.2 3.4 1.4 0.2]\n",
            " [5.7 2.8 4.5 1.3]\n",
            " [6.6 3.  4.4 1.4]\n",
            " [5.  3.2 1.2 0.2]\n",
            " [5.1 3.3 1.7 0.5]\n",
            " [6.4 2.9 4.3 1.3]\n",
            " [5.4 3.4 1.5 0.4]\n",
            " [7.7 2.6 6.9 2.3]\n",
            " [4.9 2.4 3.3 1. ]\n",
            " [7.9 3.8 6.4 2. ]\n",
            " [6.7 3.1 4.4 1.4]\n",
            " [5.2 4.1 1.5 0.1]\n",
            " [6.  3.  4.8 1.8]\n",
            " [5.8 4.  1.2 0.2]\n",
            " [7.7 2.8 6.7 2. ]\n",
            " [5.1 3.8 1.5 0.3]\n",
            " [4.7 3.2 1.6 0.2]\n",
            " [7.4 2.8 6.1 1.9]\n",
            " [5.  3.3 1.4 0.2]\n",
            " [6.3 3.4 5.6 2.4]\n",
            " [5.7 2.8 4.1 1.3]\n",
            " [5.8 2.7 3.9 1.2]\n",
            " [5.7 2.6 3.5 1. ]\n",
            " [6.4 3.2 5.3 2.3]\n",
            " [6.7 3.  5.2 2.3]\n",
            " [6.3 2.5 4.9 1.5]\n",
            " [6.7 3.  5.  1.7]\n",
            " [5.  3.  1.6 0.2]\n",
            " [5.5 2.4 3.7 1. ]\n",
            " [6.7 3.1 5.6 2.4]\n",
            " [5.8 2.7 5.1 1.9]\n",
            " [5.1 3.4 1.5 0.2]\n",
            " [6.6 2.9 4.6 1.3]\n",
            " [5.6 3.  4.1 1.3]\n",
            " [5.9 3.2 4.8 1.8]\n",
            " [6.3 2.3 4.4 1.3]\n",
            " [5.5 3.5 1.3 0.2]\n",
            " [5.1 3.7 1.5 0.4]\n",
            " [4.9 3.1 1.5 0.1]\n",
            " [6.3 2.9 5.6 1.8]\n",
            " [5.8 2.7 4.1 1. ]\n",
            " [7.7 3.8 6.7 2.2]\n",
            " [4.6 3.2 1.4 0.2]]\n"
          ],
          "name": "stdout"
        }
      ]
    },
    {
      "cell_type": "code",
      "metadata": {
        "colab": {
          "base_uri": "https://localhost:8080/",
          "height": 0
        },
        "id": "Yzfr-5HGqhCj",
        "outputId": "0fcde8ec-0cdf-4ab5-9408-9191a2b09ba0"
      },
      "source": [
        "print(y_train)"
      ],
      "execution_count": 13,
      "outputs": [
        {
          "output_type": "stream",
          "text": [
            "[1 1 2 0 2 0 0 1 2 2 2 2 1 2 1 1 2 2 2 2 1 2 1 0 2 1 1 1 1 2 0 0 2 1 0 0 1\n",
            " 0 2 1 0 1 2 1 0 2 2 2 2 0 0 2 2 0 2 0 2 2 0 0 2 0 0 0 1 2 2 0 0 0 1 1 0 0\n",
            " 1 0 2 1 2 1 0 2 0 2 0 0 2 0 2 1 1 1 2 2 1 1 0 1 2 2 0 1 1 1 1 0 0 0 2 1 2\n",
            " 0]\n"
          ],
          "name": "stdout"
        }
      ]
    },
    {
      "cell_type": "code",
      "metadata": {
        "colab": {
          "base_uri": "https://localhost:8080/",
          "height": 0
        },
        "id": "aKtoEwL-qhwj",
        "outputId": "225b79e2-2b91-4b96-a419-787652731a69"
      },
      "source": [
        "print(X_test)"
      ],
      "execution_count": 14,
      "outputs": [
        {
          "output_type": "stream",
          "text": [
            "[[5.8 2.8 5.1 2.4]\n",
            " [6.  2.2 4.  1. ]\n",
            " [5.5 4.2 1.4 0.2]\n",
            " [7.3 2.9 6.3 1.8]\n",
            " [5.  3.4 1.5 0.2]\n",
            " [6.3 3.3 6.  2.5]\n",
            " [5.  3.5 1.3 0.3]\n",
            " [6.7 3.1 4.7 1.5]\n",
            " [6.8 2.8 4.8 1.4]\n",
            " [6.1 2.8 4.  1.3]\n",
            " [6.1 2.6 5.6 1.4]\n",
            " [6.4 3.2 4.5 1.5]\n",
            " [6.1 2.8 4.7 1.2]\n",
            " [6.5 2.8 4.6 1.5]\n",
            " [6.1 2.9 4.7 1.4]\n",
            " [4.9 3.1 1.5 0.1]\n",
            " [6.  2.9 4.5 1.5]\n",
            " [5.5 2.6 4.4 1.2]\n",
            " [4.8 3.  1.4 0.3]\n",
            " [5.4 3.9 1.3 0.4]\n",
            " [5.6 2.8 4.9 2. ]\n",
            " [5.6 3.  4.5 1.5]\n",
            " [4.8 3.4 1.9 0.2]\n",
            " [4.4 2.9 1.4 0.2]\n",
            " [6.2 2.8 4.8 1.8]\n",
            " [4.6 3.6 1.  0.2]\n",
            " [5.1 3.8 1.9 0.4]\n",
            " [6.2 2.9 4.3 1.3]\n",
            " [5.  2.3 3.3 1. ]\n",
            " [5.  3.4 1.6 0.4]\n",
            " [6.4 3.1 5.5 1.8]\n",
            " [5.4 3.  4.5 1.5]\n",
            " [5.2 3.5 1.5 0.2]\n",
            " [6.1 3.  4.9 1.8]\n",
            " [6.4 2.8 5.6 2.2]\n",
            " [5.2 2.7 3.9 1.4]\n",
            " [5.7 3.8 1.7 0.3]\n",
            " [6.  2.7 5.1 1.6]]\n"
          ],
          "name": "stdout"
        }
      ]
    },
    {
      "cell_type": "code",
      "metadata": {
        "colab": {
          "base_uri": "https://localhost:8080/",
          "height": 0
        },
        "id": "Pno6ybtusrDY",
        "outputId": "3ae45f10-fcab-4f10-d0b8-4f3b6d8bf7a5"
      },
      "source": [
        "print(y_test)"
      ],
      "execution_count": 15,
      "outputs": [
        {
          "output_type": "stream",
          "text": [
            "[2 1 0 2 0 2 0 1 1 1 2 1 1 1 1 0 1 1 0 0 2 1 0 0 2 0 0 1 1 0 2 1 0 2 2 1 0\n",
            " 1]\n"
          ],
          "name": "stdout"
        }
      ]
    },
    {
      "cell_type": "markdown",
      "metadata": {
        "id": "4nkUHUiGyjij"
      },
      "source": [
        "##**Feature Scaling**"
      ]
    },
    {
      "cell_type": "code",
      "metadata": {
        "id": "xoyS5_YJstLx"
      },
      "source": [
        "from sklearn.preprocessing import StandardScaler\n",
        "sc = StandardScaler()\n",
        "X_train = sc.fit_transform(X_train)\n",
        "X_test = sc.transform(X_test)"
      ],
      "execution_count": 16,
      "outputs": []
    },
    {
      "cell_type": "code",
      "metadata": {
        "colab": {
          "base_uri": "https://localhost:8080/",
          "height": 0
        },
        "id": "py6yU7rqsxX5",
        "outputId": "e789ae81-5b5f-4923-8d3d-74db81ec7d34"
      },
      "source": [
        "print(X_train)"
      ],
      "execution_count": 17,
      "outputs": [
        {
          "output_type": "stream",
          "text": [
            "[[ 1.54399532e-02 -1.19254753e-01  2.25126850e-01  3.56381749e-01]\n",
            " [-9.98450310e-02 -1.04039491e+00  1.13559562e-01 -2.86480506e-02]\n",
            " [ 1.05300481e+00 -1.19254753e-01  9.50314227e-01  1.12644135e+00]\n",
            " [-1.36797986e+00  3.41315328e-01 -1.39259884e+00 -1.31208072e+00]\n",
            " [ 1.16828980e+00  1.11030287e-01  7.27179649e-01  1.38312788e+00]\n",
            " [-1.02212490e+00  1.03217045e+00 -1.22524790e+00 -7.98707650e-01]\n",
            " [-5.60984968e-01  1.49274053e+00 -1.28103155e+00 -1.31208072e+00]\n",
            " [-1.02212490e+00 -2.42210516e+00 -1.65358660e-01 -2.85334584e-01]\n",
            " [ 7.07149859e-01 -1.19254753e-01  9.50314227e-01  7.41411549e-01]\n",
            " [ 9.37719827e-01  5.71600368e-01  1.06188152e+00  1.63981441e+00]\n",
            " [ 1.30724937e-01 -1.96153508e+00  6.71396005e-01  3.56381749e-01]\n",
            " [ 9.37719827e-01 -1.27067995e+00  1.11766516e+00  7.41411549e-01]\n",
            " [-3.30414999e-01 -1.27067995e+00  5.77759173e-02 -1.56991317e-01]\n",
            " [ 2.09056967e+00 -1.19254753e-01  1.28501609e+00  1.38312788e+00]\n",
            " [ 4.76579890e-01  5.71600368e-01  5.04045072e-01  4.84725016e-01]\n",
            " [-4.45699984e-01 -1.50096499e+00  1.99227301e-03 -1.56991317e-01]\n",
            " [ 4.76579890e-01 -8.10109874e-01  6.15612361e-01  7.41411549e-01]\n",
            " [ 4.76579890e-01 -5.79824834e-01  7.27179649e-01  3.56381749e-01]\n",
            " [-1.13740989e+00 -1.27067995e+00  3.92477783e-01  6.13068282e-01]\n",
            " [ 4.76579890e-01 -1.27067995e+00  6.71396005e-01  8.69754815e-01]\n",
            " [ 1.28357478e+00  3.41315328e-01  5.04045072e-01  2.28038483e-01]\n",
            " [ 7.07149859e-01 -1.19254753e-01  7.82963294e-01  9.98098082e-01]\n",
            " [ 1.30724937e-01  8.01885408e-01  3.92477783e-01  4.84725016e-01]\n",
            " [-1.25269487e+00  1.11030287e-01 -1.22524790e+00 -1.31208072e+00]\n",
            " [-9.98450310e-02 -8.10109874e-01  7.27179649e-01  8.69754815e-01]\n",
            " [-3.30414999e-01 -8.10109874e-01  2.25126850e-01  9.96952160e-02]\n",
            " [-3.30414999e-01 -3.49539793e-01 -1.09575016e-01  9.96952160e-02]\n",
            " [-4.45699984e-01 -1.27067995e+00  1.13559562e-01  9.96952160e-02]\n",
            " [ 2.46009922e-01 -1.19254753e-01  4.48261428e-01  2.28038483e-01]\n",
            " [ 1.51414475e+00  3.41315328e-01  1.22923245e+00  7.41411549e-01]\n",
            " [-6.76269952e-01  1.49274053e+00 -1.28103155e+00 -1.31208072e+00]\n",
            " [-1.82911979e+00 -1.19254753e-01 -1.50416612e+00 -1.44042398e+00]\n",
            " [ 5.91864874e-01 -8.10109874e-01  8.38746938e-01  8.69754815e-01]\n",
            " [-2.15130015e-01 -1.19254753e-01  2.25126850e-01 -2.86480506e-02]\n",
            " [-5.60984968e-01  8.01885408e-01 -1.16946426e+00 -1.31208072e+00]\n",
            " [-2.15130015e-01  3.10473581e+00 -1.28103155e+00 -1.05539418e+00]\n",
            " [ 1.16828980e+00  1.11030287e-01  6.15612361e-01  3.56381749e-01]\n",
            " [-1.48326484e+00  1.11030287e-01 -1.28103155e+00 -1.31208072e+00]\n",
            " [ 1.54399532e-02 -1.19254753e-01  7.27179649e-01  7.41411549e-01]\n",
            " [-9.06839920e-01 -1.27067995e+00 -4.44276882e-01 -1.56991317e-01]\n",
            " [-1.48326484e+00  8.01885408e-01 -1.33681519e+00 -1.18373745e+00]\n",
            " [ 3.61294906e-01 -1.96153508e+00  3.92477783e-01  3.56381749e-01]\n",
            " [ 1.51414475e+00  1.26245549e+00  1.28501609e+00  1.63981441e+00]\n",
            " [-2.15130015e-01 -3.49539793e-01  2.25126850e-01  9.96952160e-02]\n",
            " [-1.25269487e+00 -1.19254753e-01 -1.33681519e+00 -1.44042398e+00]\n",
            " [ 1.39885976e+00 -1.19254753e-01  1.17344880e+00  1.12644135e+00]\n",
            " [ 1.16828980e+00  3.41315328e-01  1.06188152e+00  1.38312788e+00]\n",
            " [ 7.07149859e-01 -1.19254753e-01  1.11766516e+00  1.25478461e+00]\n",
            " [ 5.91864874e-01 -5.79824834e-01  1.00609787e+00  1.12644135e+00]\n",
            " [-9.06839920e-01  1.72302557e+00 -1.22524790e+00 -1.31208072e+00]\n",
            " [-1.25269487e+00  8.01885408e-01 -1.22524790e+00 -1.31208072e+00]\n",
            " [ 7.07149859e-01  3.41315328e-01  7.27179649e-01  9.98098082e-01]\n",
            " [ 9.37719827e-01  5.71600368e-01  1.06188152e+00  1.12644135e+00]\n",
            " [-1.59854983e+00 -1.73125004e+00 -1.39259884e+00 -1.18373745e+00]\n",
            " [ 3.61294906e-01  8.01885408e-01  8.94530582e-01  1.38312788e+00]\n",
            " [-1.13740989e+00 -1.19254753e-01 -1.33681519e+00 -1.31208072e+00]\n",
            " [-2.15130015e-01 -1.27067995e+00  6.71396005e-01  9.98098082e-01]\n",
            " [ 1.16828980e+00  1.11030287e-01  8.94530582e-01  1.12644135e+00]\n",
            " [-1.71383481e+00  3.41315328e-01 -1.39259884e+00 -1.31208072e+00]\n",
            " [-1.02212490e+00  1.26245549e+00 -1.33681519e+00 -1.31208072e+00]\n",
            " [ 1.51414475e+00 -1.19254753e-01  1.11766516e+00  4.84725016e-01]\n",
            " [-9.06839920e-01  1.03217045e+00 -1.33681519e+00 -1.18373745e+00]\n",
            " [-1.71383481e+00 -1.19254753e-01 -1.39259884e+00 -1.31208072e+00]\n",
            " [-5.60984968e-01  1.95331061e+00 -1.16946426e+00 -1.05539418e+00]\n",
            " [-4.45699984e-01 -1.73125004e+00  1.13559562e-01  9.96952160e-02]\n",
            " [ 1.05300481e+00  3.41315328e-01  1.17344880e+00  1.38312788e+00]\n",
            " [ 1.97528468e+00 -1.19254753e-01  1.56393431e+00  1.12644135e+00]\n",
            " [-9.06839920e-01  1.03217045e+00 -1.33681519e+00 -1.31208072e+00]\n",
            " [-1.13740989e+00  1.11030287e-01 -1.28103155e+00 -1.44042398e+00]\n",
            " [-7.91554936e-01  8.01885408e-01 -1.33681519e+00 -1.31208072e+00]\n",
            " [-2.15130015e-01 -5.79824834e-01  3.92477783e-01  9.96952160e-02]\n",
            " [ 8.22434843e-01 -1.19254753e-01  3.36694139e-01  2.28038483e-01]\n",
            " [-1.02212490e+00  3.41315328e-01 -1.44838248e+00 -1.31208072e+00]\n",
            " [-9.06839920e-01  5.71600368e-01 -1.16946426e+00 -9.27050916e-01]\n",
            " [ 5.91864874e-01 -3.49539793e-01  2.80910495e-01  9.96952160e-02]\n",
            " [-5.60984968e-01  8.01885408e-01 -1.28103155e+00 -1.05539418e+00]\n",
            " [ 2.09056967e+00 -1.04039491e+00  1.73128525e+00  1.38312788e+00]\n",
            " [-1.13740989e+00 -1.50096499e+00 -2.76925949e-01 -2.85334584e-01]\n",
            " [ 2.32113964e+00  1.72302557e+00  1.45236703e+00  9.98098082e-01]\n",
            " [ 9.37719827e-01  1.11030287e-01  3.36694139e-01  2.28038483e-01]\n",
            " [-7.91554936e-01  2.41388069e+00 -1.28103155e+00 -1.44042398e+00]\n",
            " [ 1.30724937e-01 -1.19254753e-01  5.59828716e-01  7.41411549e-01]\n",
            " [-9.98450310e-02  2.18359565e+00 -1.44838248e+00 -1.31208072e+00]\n",
            " [ 2.09056967e+00 -5.79824834e-01  1.61971796e+00  9.98098082e-01]\n",
            " [-9.06839920e-01  1.72302557e+00 -1.28103155e+00 -1.18373745e+00]\n",
            " [-1.36797986e+00  3.41315328e-01 -1.22524790e+00 -1.31208072e+00]\n",
            " [ 1.74471472e+00 -5.79824834e-01  1.28501609e+00  8.69754815e-01]\n",
            " [-1.02212490e+00  5.71600368e-01 -1.33681519e+00 -1.31208072e+00]\n",
            " [ 4.76579890e-01  8.01885408e-01  1.00609787e+00  1.51147115e+00]\n",
            " [-2.15130015e-01 -5.79824834e-01  1.69343206e-01  9.96952160e-02]\n",
            " [-9.98450310e-02 -8.10109874e-01  5.77759173e-02 -2.86480506e-02]\n",
            " [-2.15130015e-01 -1.04039491e+00 -1.65358660e-01 -2.85334584e-01]\n",
            " [ 5.91864874e-01  3.41315328e-01  8.38746938e-01  1.38312788e+00]\n",
            " [ 9.37719827e-01 -1.19254753e-01  7.82963294e-01  1.38312788e+00]\n",
            " [ 4.76579890e-01 -1.27067995e+00  6.15612361e-01  3.56381749e-01]\n",
            " [ 9.37719827e-01 -1.19254753e-01  6.71396005e-01  6.13068282e-01]\n",
            " [-1.02212490e+00 -1.19254753e-01 -1.22524790e+00 -1.31208072e+00]\n",
            " [-4.45699984e-01 -1.50096499e+00 -5.37913713e-02 -2.85334584e-01]\n",
            " [ 9.37719827e-01  1.11030287e-01  1.00609787e+00  1.51147115e+00]\n",
            " [-9.98450310e-02 -8.10109874e-01  7.27179649e-01  8.69754815e-01]\n",
            " [-9.06839920e-01  8.01885408e-01 -1.28103155e+00 -1.31208072e+00]\n",
            " [ 8.22434843e-01 -3.49539793e-01  4.48261428e-01  9.96952160e-02]\n",
            " [-3.30414999e-01 -1.19254753e-01  1.69343206e-01  9.96952160e-02]\n",
            " [ 1.54399532e-02  3.41315328e-01  5.59828716e-01  7.41411549e-01]\n",
            " [ 4.76579890e-01 -1.73125004e+00  3.36694139e-01  9.96952160e-02]\n",
            " [-4.45699984e-01  1.03217045e+00 -1.39259884e+00 -1.31208072e+00]\n",
            " [-9.06839920e-01  1.49274053e+00 -1.28103155e+00 -1.05539418e+00]\n",
            " [-1.13740989e+00  1.11030287e-01 -1.28103155e+00 -1.44042398e+00]\n",
            " [ 4.76579890e-01 -3.49539793e-01  1.00609787e+00  7.41411549e-01]\n",
            " [-9.98450310e-02 -8.10109874e-01  1.69343206e-01 -2.85334584e-01]\n",
            " [ 2.09056967e+00  1.72302557e+00  1.61971796e+00  1.25478461e+00]\n",
            " [-1.48326484e+00  3.41315328e-01 -1.33681519e+00 -1.31208072e+00]]\n"
          ],
          "name": "stdout"
        }
      ]
    },
    {
      "cell_type": "code",
      "metadata": {
        "colab": {
          "base_uri": "https://localhost:8080/",
          "height": 0
        },
        "id": "em4pJ-0Msx66",
        "outputId": "c3a8a386-b4fa-4bf9-8500-2206717d5ca3"
      },
      "source": [
        "print(X_test)"
      ],
      "execution_count": 18,
      "outputs": [
        {
          "output_type": "stream",
          "text": [
            "[[-0.09984503 -0.57982483  0.72717965  1.51147115]\n",
            " [ 0.13072494 -1.96153508  0.11355956 -0.28533458]\n",
            " [-0.44569998  2.64416573 -1.33681519 -1.31208072]\n",
            " [ 1.62942973 -0.34953979  1.39658338  0.74141155]\n",
            " [-1.0221249   0.80188541 -1.28103155 -1.31208072]\n",
            " [ 0.47657989  0.57160037  1.22923245  1.63981441]\n",
            " [-1.0221249   1.03217045 -1.39259884 -1.18373745]\n",
            " [ 0.93771983  0.11103029  0.50404507  0.35638175]\n",
            " [ 1.05300481 -0.57982483  0.55982872  0.22803848]\n",
            " [ 0.24600992 -0.57982483  0.11355956  0.09969522]\n",
            " [ 0.24600992 -1.04039491  1.00609787  0.22803848]\n",
            " [ 0.59186487  0.34131533  0.39247778  0.35638175]\n",
            " [ 0.24600992 -0.57982483  0.50404507 -0.02864805]\n",
            " [ 0.70714986 -0.57982483  0.44826143  0.35638175]\n",
            " [ 0.24600992 -0.34953979  0.50404507  0.22803848]\n",
            " [-1.13740989  0.11103029 -1.28103155 -1.44042398]\n",
            " [ 0.13072494 -0.34953979  0.39247778  0.35638175]\n",
            " [-0.44569998 -1.04039491  0.33669414 -0.02864805]\n",
            " [-1.25269487 -0.11925475 -1.33681519 -1.18373745]\n",
            " [-0.56098497  1.95331061 -1.39259884 -1.05539418]\n",
            " [-0.330415   -0.57982483  0.61561236  0.99809808]\n",
            " [-0.330415   -0.11925475  0.39247778  0.35638175]\n",
            " [-1.25269487  0.80188541 -1.05789697 -1.31208072]\n",
            " [-1.71383481 -0.34953979 -1.33681519 -1.31208072]\n",
            " [ 0.36129491 -0.57982483  0.55982872  0.74141155]\n",
            " [-1.48326484  1.26245549 -1.55994977 -1.31208072]\n",
            " [-0.90683992  1.72302557 -1.05789697 -1.05539418]\n",
            " [ 0.36129491 -0.34953979  0.28091049  0.09969522]\n",
            " [-1.0221249  -1.73125004 -0.27692595 -0.28533458]\n",
            " [-1.0221249   0.80188541 -1.2252479  -1.05539418]\n",
            " [ 0.59186487  0.11103029  0.95031423  0.74141155]\n",
            " [-0.56098497 -0.11925475  0.39247778  0.35638175]\n",
            " [-0.79155494  1.03217045 -1.28103155 -1.31208072]\n",
            " [ 0.24600992 -0.11925475  0.61561236  0.74141155]\n",
            " [ 0.59186487 -0.57982483  1.00609787  1.25478461]\n",
            " [-0.79155494 -0.81010987  0.05777592  0.22803848]\n",
            " [-0.21513002  1.72302557 -1.16946426 -1.18373745]\n",
            " [ 0.13072494 -0.81010987  0.72717965  0.48472502]]\n"
          ],
          "name": "stdout"
        }
      ]
    },
    {
      "cell_type": "markdown",
      "metadata": {
        "id": "VO017nkeymIK"
      },
      "source": [
        "##**Training the Decision Tree Classification model on the Training set**\n"
      ]
    },
    {
      "cell_type": "code",
      "metadata": {
        "colab": {
          "base_uri": "https://localhost:8080/",
          "height": 0
        },
        "id": "59qJc1cFs07h",
        "outputId": "deb5d806-2099-4853-81d7-bb3409a71a66"
      },
      "source": [
        "from sklearn.tree import DecisionTreeClassifier\n",
        "classifier = DecisionTreeClassifier(criterion = 'entropy', random_state = 0)\n",
        "classifier.fit(X_train, y_train)"
      ],
      "execution_count": 19,
      "outputs": [
        {
          "output_type": "execute_result",
          "data": {
            "text/plain": [
              "DecisionTreeClassifier(ccp_alpha=0.0, class_weight=None, criterion='entropy',\n",
              "                       max_depth=None, max_features=None, max_leaf_nodes=None,\n",
              "                       min_impurity_decrease=0.0, min_impurity_split=None,\n",
              "                       min_samples_leaf=1, min_samples_split=2,\n",
              "                       min_weight_fraction_leaf=0.0, presort='deprecated',\n",
              "                       random_state=0, splitter='best')"
            ]
          },
          "metadata": {
            "tags": []
          },
          "execution_count": 19
        }
      ]
    },
    {
      "cell_type": "markdown",
      "metadata": {
        "id": "0S4dGwy6yvLp"
      },
      "source": [
        "##Predicting the Test set results"
      ]
    },
    {
      "cell_type": "code",
      "metadata": {
        "colab": {
          "base_uri": "https://localhost:8080/",
          "height": 0
        },
        "id": "32KaID8Es5qz",
        "outputId": "5381f7da-96f7-4b21-9e30-acb9ff432c5c"
      },
      "source": [
        "y_pred = classifier.predict(X_test)\n",
        "print(np.concatenate((y_pred.reshape(len(y_pred),1), y_test.reshape(len(y_test),1)),1))"
      ],
      "execution_count": 20,
      "outputs": [
        {
          "output_type": "stream",
          "text": [
            "[[2 2]\n",
            " [1 1]\n",
            " [0 0]\n",
            " [2 2]\n",
            " [0 0]\n",
            " [2 2]\n",
            " [0 0]\n",
            " [1 1]\n",
            " [1 1]\n",
            " [1 1]\n",
            " [2 2]\n",
            " [1 1]\n",
            " [1 1]\n",
            " [1 1]\n",
            " [1 1]\n",
            " [0 0]\n",
            " [1 1]\n",
            " [1 1]\n",
            " [0 0]\n",
            " [0 0]\n",
            " [2 2]\n",
            " [1 1]\n",
            " [0 0]\n",
            " [0 0]\n",
            " [2 2]\n",
            " [0 0]\n",
            " [0 0]\n",
            " [1 1]\n",
            " [1 1]\n",
            " [0 0]\n",
            " [2 2]\n",
            " [1 1]\n",
            " [0 0]\n",
            " [2 2]\n",
            " [2 2]\n",
            " [1 1]\n",
            " [0 0]\n",
            " [2 1]]\n"
          ],
          "name": "stdout"
        }
      ]
    },
    {
      "cell_type": "markdown",
      "metadata": {
        "id": "5wLMhbhQyx0W"
      },
      "source": [
        "##**Making the Confusion Matrix**"
      ]
    },
    {
      "cell_type": "code",
      "metadata": {
        "colab": {
          "base_uri": "https://localhost:8080/",
          "height": 0
        },
        "id": "hgv8qPOGs8nZ",
        "outputId": "459daf9f-8f65-4b78-9508-c630cbe70c4a"
      },
      "source": [
        "from sklearn.metrics import confusion_matrix, accuracy_score\n",
        "cm = confusion_matrix(y_test, y_pred)\n",
        "print(cm)\n",
        "accuracy_score(y_test, y_pred)"
      ],
      "execution_count": 21,
      "outputs": [
        {
          "output_type": "stream",
          "text": [
            "[[13  0  0]\n",
            " [ 0 15  1]\n",
            " [ 0  0  9]]\n"
          ],
          "name": "stdout"
        },
        {
          "output_type": "execute_result",
          "data": {
            "text/plain": [
              "0.9736842105263158"
            ]
          },
          "metadata": {
            "tags": []
          },
          "execution_count": 21
        }
      ]
    },
    {
      "cell_type": "markdown",
      "metadata": {
        "id": "hfh2hNS9y3nC"
      },
      "source": [
        "##**Predicting a new result**"
      ]
    },
    {
      "cell_type": "code",
      "metadata": {
        "colab": {
          "base_uri": "https://localhost:8080/",
          "height": 0
        },
        "id": "rgKTVk26wtk3",
        "outputId": "f41a32bd-5c8c-47b7-c6eb-769a4dea4e12"
      },
      "source": [
        "print(classifier.predict(sc.transform([[5.5, 3.5, 2.5, 1.5]])))   #Type of species for given input is iris setosa "
      ],
      "execution_count": 23,
      "outputs": [
        {
          "output_type": "stream",
          "text": [
            "[1]\n"
          ],
          "name": "stdout"
        }
      ]
    }
  ]
}